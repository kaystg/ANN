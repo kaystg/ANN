{
  "nbformat": 4,
  "nbformat_minor": 0,
  "metadata": {
    "colab": {
      "provenance": [],
      "authorship_tag": "ABX9TyPnjXiXxJyFF0+Fki/nBeUt",
      "include_colab_link": true
    },
    "kernelspec": {
      "name": "python3",
      "display_name": "Python 3"
    },
    "language_info": {
      "name": "python"
    }
  },
  "cells": [
    {
      "cell_type": "markdown",
      "metadata": {
        "id": "view-in-github",
        "colab_type": "text"
      },
      "source": [
        "<a href=\"https://colab.research.google.com/github/kaystg/ANN/blob/main/NumberDetection(ANN).ipynb\" target=\"_parent\"><img src=\"https://colab.research.google.com/assets/colab-badge.svg\" alt=\"Open In Colab\"/></a>"
      ]
    },
    {
      "cell_type": "code",
      "execution_count": null,
      "metadata": {
        "id": "rfYez3vi3fZ3"
      },
      "outputs": [],
      "source": [
        "import numpy as np\n",
        "import matplotlib.pyplot as plt\n",
        "import random"
      ]
    },
    {
      "cell_type": "code",
      "source": [
        "X_train=np.loadtxt('/content/sample_data/train_X.csv',delimiter=',').T\n",
        "y_train=np.loadtxt('/content/sample_data/train_label.csv',delimiter=',').T\n",
        "X_test=np.loadtxt('/content/sample_data/test_X.csv',delimiter=',').T\n",
        "y_test=np.loadtxt('/content/sample_data/test_label.csv',delimiter=',').T"
      ],
      "metadata": {
        "id": "au8c6awT9TpK"
      },
      "execution_count": null,
      "outputs": []
    },
    {
      "cell_type": "code",
      "source": [
        "print(\"Shape of X_train:\",X_train.shape)\n",
        "print(\"Shape of y_train:\",y_train.shape)\n",
        "print(\"Shape of X_test:\",X_test.shape)\n",
        "print(\"Shape of y_test:\",y_test.shape)"
      ],
      "metadata": {
        "colab": {
          "base_uri": "https://localhost:8080/"
        },
        "id": "o4VPPeIF-o5g",
        "outputId": "8087097a-76ca-4754-e9ed-7dadab121b7e"
      },
      "execution_count": null,
      "outputs": [
        {
          "output_type": "stream",
          "name": "stdout",
          "text": [
            "Shape of X_train: (784, 1000)\n",
            "Shape of y_train: (10, 1000)\n",
            "Shape of X_test: (784, 350)\n",
            "Shape of y_test: (10, 350)\n"
          ]
        }
      ]
    },
    {
      "cell_type": "code",
      "source": [
        "index=random.randrange(0,X_train.shape[1])\n",
        "plt.imshow(X_train[:,index].reshape(28,28),cmap='gray')\n",
        "plt.show()"
      ],
      "metadata": {
        "colab": {
          "base_uri": "https://localhost:8080/",
          "height": 430
        },
        "id": "EXjVTfJv_uc9",
        "outputId": "50b68adc-0223-43c4-d0cd-2a5efeab407a"
      },
      "execution_count": null,
      "outputs": [
        {
          "output_type": "display_data",
          "data": {
            "text/plain": [
              "<Figure size 640x480 with 1 Axes>"
            ],
            "image/png": "[encoded data removed]"
          },
          "metadata": {}
        }
      ]
    },
    {
      "cell_type": "code",
      "source": [
        "def tanh(x):\n",
        "  return np.tanh(x)\n",
        "def relu(x):\n",
        "  return np.maximum(x,0)\n",
        "def softmax(x):\n",
        "  x-=np.max(x,axis=0,keepdims=True)\n",
        "  expX=np.exp(x)\n",
        "  return expX/np.sum(expX,axis=0,keepdims=True)"
      ],
      "metadata": {
        "id": "sGQwaIB8B8pY"
      },
      "execution_count": null,
      "outputs": []
    },
    {
      "cell_type": "code",
      "source": [
        "def derivative_tanh(x):\n",
        "  return (1-np.power(np.tanh(x),2))\n",
        "def derivative_relu(x):\n",
        "  return np.array(x>0,dtype=np.float32)"
      ],
      "metadata": {
        "id": "ifAHk3adCqYt"
      },
      "execution_count": null,
      "outputs": []
    },
    {
      "cell_type": "code",
      "source": [
        "def initialize_parameters(n_x,n_h,n_y):\n",
        "  w1=np.random.randn(n_h,n_x)*0.01\n",
        "  b1=np.zeros((n_h,1))\n",
        "  w2=np.random.randn(n_y,n_h)*0.01\n",
        "  b2=np.zeros((n_y,1))\n",
        "  parameters={\n",
        "      \"w1\":w1,\n",
        "      \"b1\":b1,\n",
        "      \"w2\":w2,\n",
        "      \"b2\":b2\n",
        "  }\n",
        "  return parameters"
      ],
      "metadata": {
        "id": "21GcUcm5xNwZ"
      },
      "execution_count": null,
      "outputs": []
    },
    {
      "cell_type": "code",
      "source": [
        "def forward_propagation(x,parameters):\n",
        "  w1=parameters[\"w1\"]\n",
        "  b1=parameters[\"b1\"]\n",
        "  w2=parameters[\"w2\"]\n",
        "  b2=parameters[\"b2\"]\n",
        "  z1=np.dot(w1,x)+b1\n",
        "  a1=relu(z1)\n",
        "  z2=np.dot(w2,a1)+b2\n",
        "  a2=softmax(z2)\n",
        "  forward_cache={\n",
        "      \"z1\":z1,\n",
        "      \"a1\":a1,\n",
        "      \"z2\":z2,\n",
        "      \"a2\":a2\n",
        "  }\n",
        "  return forward_cache"
      ],
      "metadata": {
        "id": "ZQfvHmEt0h7W"
      },
      "execution_count": null,
      "outputs": []
    },
    {
      "cell_type": "code",
      "source": [
        "def cost_function(a2,y):\n",
        "  m=y.shape[1]\n",
        "  a2=np.clip(a2,1e-10,1)\n",
        "  cost=-(1/m)*np.sum(y*np.log(a2))\n",
        "  #cost=-(1/m)*np.sum(np.sum(y*np.log(a2,0),1))\n",
        "  return cost"
      ],
      "metadata": {
        "id": "byR1rvQWzFds"
      },
      "execution_count": null,
      "outputs": []
    },
    {
      "cell_type": "code",
      "source": [
        "def backward_propagation(x,y,parameters,forward_cache):\n",
        "  w1=parameters[\"w1\"]\n",
        "  b1=parameters[\"b1\"]\n",
        "  w2=parameters[\"w2\"]\n",
        "  b2=parameters[\"b2\"]\n",
        "  a1=forward_cache[\"a1\"]\n",
        "  a2=forward_cache[\"a2\"]\n",
        "  m=x.shape[1]\n",
        "  dz2=(a2-y)\n",
        "  dw2=(1/m)*np.dot(dz2,a1.T)\n",
        "  db2=(1/m)*np.sum(dz2,axis=1,keepdims=True)\n",
        "  dz1=(1/m)*np.dot(w2.T,dz2)*derivative_relu(a1)\n",
        "  dw1=(1/m)*np.dot(dz1,x.T)\n",
        "  db1=(1/m)*np.sum(dz1,axis=1,keepdims=True)\n",
        "  gradients={\n",
        "      \"dw1\":dw1,\n",
        "      \"db1\":db1,\n",
        "      \"dw2\":dw2,\n",
        "      \"db2\":db2\n",
        "  }\n",
        "  return gradients"
      ],
      "metadata": {
        "id": "tgpNieIh2jlM"
      },
      "execution_count": null,
      "outputs": []
    },
    {
      "cell_type": "code",
      "source": [
        "a=np.array([[1,2,3],[1,2,3]])\n",
        "np.sum(a,axis=1,keepdims=True).shape"
      ],
      "metadata": {
        "colab": {
          "base_uri": "https://localhost:8080/"
        },
        "id": "3PDJFuHz3cEL",
        "outputId": "43c8f989-53c8-4299-a2e4-add390081abd"
      },
      "execution_count": null,
      "outputs": [
        {
          "output_type": "execute_result",
          "data": {
            "text/plain": [
              "(2, 1)"
            ]
          },
          "metadata": {},
          "execution_count": 28
        }
      ]
    },
    {
      "cell_type": "code",
      "source": [
        "def update_parameters(parameters,gradients,learning_rate):\n",
        "  w1=parameters[\"w1\"]\n",
        "  b1=parameters[\"b1\"]\n",
        "  w2=parameters[\"w2\"]\n",
        "  b2=parameters[\"b2\"]\n",
        "\n",
        "  dw1=gradients[\"dw1\"]\n",
        "  db1=gradients[\"db1\"]\n",
        "  dw2=gradients[\"dw2\"]\n",
        "  db2=gradients[\"db2\"]\n",
        "  w1=w1-learning_rate*dw1\n",
        "  b1=b1-learning_rate*db1\n",
        "  w2=w2-learning_rate*dw2\n",
        "  b2=b2-learning_rate*db2\n",
        "  parameters={\n",
        "      \"w1\":w1,\n",
        "      \"b1\":b1,\n",
        "      \"w2\":w2,\n",
        "      \"b2\":b2\n",
        "  }\n",
        "  return parameters"
      ],
      "metadata": {
        "id": "dXoNzEGpa7jc"
      },
      "execution_count": null,
      "outputs": []
    },
    {
      "cell_type": "code",
      "source": [
        "def model(x,y,n_h,learning_rate,iterations):\n",
        "  n_x=x.shape[0]\n",
        "  n_y=y.shape[0]\n",
        "  cost_list=[]\n",
        "  parameters=initialize_parameters(n_x,n_h,n_y)\n",
        "  for i in range(iterations):\n",
        "    forward_cache=forward_propagation(x,parameters)\n",
        "    cost=cost_function(forward_cache[\"a2\"],y)\n",
        "    gradients=backward_propagation(x,y,parameters,forward_cache)\n",
        "    parameters=update_parameters(parameters,gradients,learning_rate)\n",
        "    cost_list.append(cost)\n",
        "    if(i%(iterations/10)==0):\n",
        "      print(\"Cost after\",i,\"iterations is\",cost)\n",
        "  return parameters,cost_list"
      ],
      "metadata": {
        "id": "Fx1qpEnecAgZ"
      },
      "execution_count": null,
      "outputs": []
    },
    {
      "cell_type": "code",
      "source": [
        "iterations=100\n",
        "n_h=1000\n",
        "learning_rate=0.02\n",
        "Parameters,Cost_list=model(X_train,y_train,n_h=n_h,learning_rate=learning_rate,iterations=iterations)"
      ],
      "metadata": {
        "colab": {
          "base_uri": "https://localhost:8080/"
        },
        "id": "r4LtvqoajqiL",
        "outputId": "e28c31ca-64fc-487b-aed0-00da94afa4fd"
      },
      "execution_count": null,
      "outputs": [
        {
          "output_type": "stream",
          "name": "stdout",
          "text": [
            "Cost after 0 iterations is 9.29753851795002\n",
            "Cost after 10 iterations is 3.6093677523305288\n",
            "Cost after 20 iterations is 0.724094746550337\n",
            "Cost after 30 iterations is 0.4471690031446152\n",
            "Cost after 40 iterations is 0.14982019457087095\n",
            "Cost after 50 iterations is 0.04912093759963951\n",
            "Cost after 60 iterations is 0.03153962660384556\n",
            "Cost after 70 iterations is 0.0015070725306439538\n",
            "Cost after 80 iterations is 0.0008132253014261402\n",
            "Cost after 90 iterations is 0.0005973488142473057\n"
          ]
        }
      ]
    },
    {
      "cell_type": "code",
      "source": [
        "t=np.arange(0,iterations)\n",
        "plt.plot(t,Cost_list)\n",
        "plt.show()"
      ],
      "metadata": {
        "colab": {
          "base_uri": "https://localhost:8080/",
          "height": 430
        },
        "id": "Sb1tmFJCDTBL",
        "outputId": "a37e13a0-2fb1-4890-f123-d3b42e1d6ce6"
      },
      "execution_count": null,
      "outputs": [
        {
          "output_type": "display_data",
          "data": {
            "text/plain": [
              "<Figure size 640x480 with 1 Axes>"
            ],
            "image/png": "[encoded data removed]"
          },
          "metadata": {}
        }
      ]
    },
    {
      "cell_type": "code",
      "source": [
        "def accuracy(inp, labels, parameters):\n",
        "    forward_cache = forward_propagation(inp, parameters)\n",
        "    a_out = forward_cache['a2']   # containes propabilities with shape(10, 1)\n",
        "\n",
        "    a_out = np.argmax(a_out, 0)  # 0 represents row wise\n",
        "\n",
        "    labels = np.argmax(labels, 0)\n",
        "\n",
        "    acc = np.mean(a_out == labels)*100\n",
        "\n",
        "    return acc"
      ],
      "metadata": {
        "id": "qp-gJyyBD3kv"
      },
      "execution_count": null,
      "outputs": []
    },
    {
      "cell_type": "code",
      "source": [
        "print(\"Accuracy of Train Dataset\", accuracy(X_train, y_train, Parameters), \"%\")\n",
        "print(\"Accuracy of Test Dataset\", round(accuracy(X_test, y_test, Parameters), 2), \"%\")"
      ],
      "metadata": {
        "colab": {
          "base_uri": "https://localhost:8080/"
        },
        "id": "CGqp_pKbHqwW",
        "outputId": "92d16709-ba1e-45bf-a8d1-f434aaa48fd2"
      },
      "execution_count": null,
      "outputs": [
        {
          "output_type": "stream",
          "name": "stdout",
          "text": [
            "Accuracy of Train Dataset 100.0 %\n",
            "Accuracy of Test Dataset 86.29 %\n"
          ]
        }
      ]
    },
    {
      "cell_type": "code",
      "source": [
        "idx = int(random.randrange(0,X_test.shape[1]))\n",
        "plt.imshow(X_test[:, idx].reshape((28,28)),cmap='gray')\n",
        "plt.show()\n",
        "\n",
        "cache = forward_propagation(X_test[:, idx].reshape(X_test[:, idx].shape[0], 1), Parameters)\n",
        "a_pred = cache['a2']\n",
        "a_pred = np.argmax(a_pred, 0)\n",
        "\n",
        "print(\"Our model says it is :\", a_pred[0])"
      ],
      "metadata": {
        "colab": {
          "base_uri": "https://localhost:8080/",
          "height": 447
        },
        "id": "YWWadaMoKo08",
        "outputId": "b171c3f5-4955-44ce-cf8d-0bb8c203df23"
      },
      "execution_count": null,
      "outputs": [
        {
          "output_type": "display_data",
          "data": {
            "text/plain": [
              "<Figure size 640x480 with 1 Axes>"
            ],
            "image/png": "[encoded data removed]"
          },
          "metadata": {}
        },
        {
          "output_type": "stream",
          "name": "stdout",
          "text": [
            "Our model says it is : 6\n"
          ]
        }
      ]
    }
  ]
}